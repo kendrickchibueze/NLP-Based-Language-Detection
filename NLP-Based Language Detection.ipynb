{
 "cells": [
  {
   "cell_type": "code",
   "execution_count": 2,
   "id": "b2522bf6",
   "metadata": {},
   "outputs": [
    {
     "name": "stdout",
     "output_type": "stream",
     "text": [
      "Requirement already satisfied: datasketch in c:\\users\\envy\\anaconda3\\lib\\site-packages (1.6.5)\n",
      "Requirement already satisfied: scipy>=1.0.0 in c:\\users\\envy\\anaconda3\\lib\\site-packages (from datasketch) (1.6.2)\n",
      "Requirement already satisfied: numpy>=1.11 in c:\\users\\envy\\appdata\\roaming\\python\\python38\\site-packages (from datasketch) (1.22.3)\n"
     ]
    }
   ],
   "source": [
    "!pip install datasketch"
   ]
  },
  {
   "cell_type": "code",
   "execution_count": 3,
   "id": "43630d8b",
   "metadata": {},
   "outputs": [],
   "source": [
    "import pandas as pd\n",
    "import numpy as np\n",
    "from sklearn.feature_extraction.text import CountVectorizer\n",
    "from sklearn.model_selection import train_test_split\n",
    "from sklearn.naive_bayes import MultinomialNB\n",
    "from sklearn.metrics import accuracy_score\n",
    "from sklearn.feature_extraction.text import TfidfVectorizer\n",
    "from sklearn.decomposition import TruncatedSVD\n",
    "from sklearn.metrics.pairwise import cosine_similarity\n",
    "from datasketch import MinHash, MinHashLSH\n",
    "from collections import defaultdict\n",
    "from sklearn.linear_model import LogisticRegression\n",
    "from sklearn.svm import LinearSVC\n",
    "from sklearn.ensemble import RandomForestClassifier\n",
    "from sklearn.neural_network import MLPClassifier\n",
    "\n",
    "import matplotlib.pyplot as plt\n",
    "import seaborn as sns\n",
    "import urllib.request\n",
    "import warnings\n",
    "\n",
    "warnings.filterwarnings('ignore')"
   ]
  },
  {
   "cell_type": "code",
   "execution_count": 4,
   "id": "d99e111a",
   "metadata": {},
   "outputs": [],
   "source": [
    "# load data from CSV\n",
    "data = pd.read_csv('languages.csv')"
   ]
  },
  {
   "cell_type": "code",
   "execution_count": 5,
   "id": "217ee049",
   "metadata": {},
   "outputs": [
    {
     "data": {
      "text/html": [
       "<div>\n",
       "<style scoped>\n",
       "    .dataframe tbody tr th:only-of-type {\n",
       "        vertical-align: middle;\n",
       "    }\n",
       "\n",
       "    .dataframe tbody tr th {\n",
       "        vertical-align: top;\n",
       "    }\n",
       "\n",
       "    .dataframe thead th {\n",
       "        text-align: right;\n",
       "    }\n",
       "</style>\n",
       "<table border=\"1\" class=\"dataframe\">\n",
       "  <thead>\n",
       "    <tr style=\"text-align: right;\">\n",
       "      <th></th>\n",
       "      <th>Text</th>\n",
       "      <th>language</th>\n",
       "    </tr>\n",
       "  </thead>\n",
       "  <tbody>\n",
       "    <tr>\n",
       "      <th>0</th>\n",
       "      <td>klement gottwaldi surnukeha palsameeriti ning ...</td>\n",
       "      <td>Estonian</td>\n",
       "    </tr>\n",
       "    <tr>\n",
       "      <th>1</th>\n",
       "      <td>sebes joseph pereira thomas  på eng the jesuit...</td>\n",
       "      <td>Swedish</td>\n",
       "    </tr>\n",
       "    <tr>\n",
       "      <th>2</th>\n",
       "      <td>ถนนเจริญกรุง อักษรโรมัน thanon charoen krung เ...</td>\n",
       "      <td>Thai</td>\n",
       "    </tr>\n",
       "    <tr>\n",
       "      <th>3</th>\n",
       "      <td>விசாகப்பட்டினம் தமிழ்ச்சங்கத்தை இந்துப் பத்திர...</td>\n",
       "      <td>Tamil</td>\n",
       "    </tr>\n",
       "    <tr>\n",
       "      <th>4</th>\n",
       "      <td>de spons behoort tot het geslacht haliclona en...</td>\n",
       "      <td>Dutch</td>\n",
       "    </tr>\n",
       "  </tbody>\n",
       "</table>\n",
       "</div>"
      ],
      "text/plain": [
       "                                                Text  language\n",
       "0  klement gottwaldi surnukeha palsameeriti ning ...  Estonian\n",
       "1  sebes joseph pereira thomas  på eng the jesuit...   Swedish\n",
       "2  ถนนเจริญกรุง อักษรโรมัน thanon charoen krung เ...      Thai\n",
       "3  விசாகப்பட்டினம் தமிழ்ச்சங்கத்தை இந்துப் பத்திர...     Tamil\n",
       "4  de spons behoort tot het geslacht haliclona en...     Dutch"
      ]
     },
     "execution_count": 5,
     "metadata": {},
     "output_type": "execute_result"
    }
   ],
   "source": [
    "data.head()"
   ]
  },
  {
   "cell_type": "code",
   "execution_count": 6,
   "id": "a5234398",
   "metadata": {},
   "outputs": [
    {
     "name": "stdout",
     "output_type": "stream",
     "text": [
      "<class 'pandas.core.frame.DataFrame'>\n",
      "RangeIndex: 22000 entries, 0 to 21999\n",
      "Data columns (total 2 columns):\n",
      " #   Column    Non-Null Count  Dtype \n",
      "---  ------    --------------  ----- \n",
      " 0   Text      22000 non-null  object\n",
      " 1   language  22000 non-null  object\n",
      "dtypes: object(2)\n",
      "memory usage: 343.9+ KB\n"
     ]
    }
   ],
   "source": [
    "data.info()"
   ]
  },
  {
   "cell_type": "code",
   "execution_count": 7,
   "id": "41fcf39e",
   "metadata": {},
   "outputs": [
    {
     "data": {
      "text/html": [
       "<div>\n",
       "<style scoped>\n",
       "    .dataframe tbody tr th:only-of-type {\n",
       "        vertical-align: middle;\n",
       "    }\n",
       "\n",
       "    .dataframe tbody tr th {\n",
       "        vertical-align: top;\n",
       "    }\n",
       "\n",
       "    .dataframe thead th {\n",
       "        text-align: right;\n",
       "    }\n",
       "</style>\n",
       "<table border=\"1\" class=\"dataframe\">\n",
       "  <thead>\n",
       "    <tr style=\"text-align: right;\">\n",
       "      <th></th>\n",
       "      <th>Text</th>\n",
       "      <th>language</th>\n",
       "    </tr>\n",
       "  </thead>\n",
       "  <tbody>\n",
       "    <tr>\n",
       "      <th>count</th>\n",
       "      <td>22000</td>\n",
       "      <td>22000</td>\n",
       "    </tr>\n",
       "    <tr>\n",
       "      <th>unique</th>\n",
       "      <td>21859</td>\n",
       "      <td>22</td>\n",
       "    </tr>\n",
       "    <tr>\n",
       "      <th>top</th>\n",
       "      <td>haec commentatio automatice praeparata res ast...</td>\n",
       "      <td>Arabic</td>\n",
       "    </tr>\n",
       "    <tr>\n",
       "      <th>freq</th>\n",
       "      <td>48</td>\n",
       "      <td>1000</td>\n",
       "    </tr>\n",
       "  </tbody>\n",
       "</table>\n",
       "</div>"
      ],
      "text/plain": [
       "                                                     Text language\n",
       "count                                               22000    22000\n",
       "unique                                              21859       22\n",
       "top     haec commentatio automatice praeparata res ast...   Arabic\n",
       "freq                                                   48     1000"
      ]
     },
     "execution_count": 7,
     "metadata": {},
     "output_type": "execute_result"
    }
   ],
   "source": [
    "data.describe()"
   ]
  },
  {
   "cell_type": "code",
   "execution_count": 8,
   "id": "12a406e8",
   "metadata": {},
   "outputs": [
    {
     "data": {
      "text/plain": [
       "Text        0\n",
       "language    0\n",
       "dtype: int64"
      ]
     },
     "execution_count": 8,
     "metadata": {},
     "output_type": "execute_result"
    }
   ],
   "source": [
    "data.isnull().sum()"
   ]
  },
  {
   "cell_type": "code",
   "execution_count": 9,
   "id": "3c034f5e",
   "metadata": {},
   "outputs": [
    {
     "name": "stdout",
     "output_type": "stream",
     "text": [
      "Number of languages in the dataset is: 22\n"
     ]
    }
   ],
   "source": [
    "num_languages = data['language'].nunique()\n",
    "\n",
    "print(f'Number of languages in the dataset is: {num_languages}')"
   ]
  },
  {
   "cell_type": "code",
   "execution_count": 10,
   "id": "721dca72",
   "metadata": {},
   "outputs": [
    {
     "data": {
      "text/plain": [
       "Arabic        1000\n",
       "Korean        1000\n",
       "Estonian      1000\n",
       "French        1000\n",
       "Urdu          1000\n",
       "Swedish       1000\n",
       "Romanian      1000\n",
       "English       1000\n",
       "Latin         1000\n",
       "Dutch         1000\n",
       "Russian       1000\n",
       "Hindi         1000\n",
       "Thai          1000\n",
       "Indonesian    1000\n",
       "Japanese      1000\n",
       "Pushto        1000\n",
       "Persian       1000\n",
       "Spanish       1000\n",
       "Portugese     1000\n",
       "Tamil         1000\n",
       "Chinese       1000\n",
       "Turkish       1000\n",
       "Name: language, dtype: int64"
      ]
     },
     "execution_count": 10,
     "metadata": {},
     "output_type": "execute_result"
    }
   ],
   "source": [
    "data[\"language\"].value_counts()"
   ]
  },
  {
   "cell_type": "code",
   "execution_count": 11,
   "id": "cf4c154a",
   "metadata": {},
   "outputs": [
    {
     "data": {
      "image/png": "[encoded data removed]",
      "text/plain": [
       "<Figure size 720x288 with 1 Axes>"
      ]
     },
     "metadata": {
      "needs_background": "light"
     },
     "output_type": "display_data"
    }
   ],
   "source": [
    "# Check for class imbalance\n",
    "\n",
    "# Ensure the 'language' column is treated as a categorical variable, rather than string\n",
    "data['language'] = data['language'].astype('category')\n",
    "\n",
    "# Plot the distribution of languages\n",
    "plt.figure(figsize=(10, 4))\n",
    "sns.countplot(data=data, x='language', order=data['language'].value_counts().index)\n",
    "plt.title('Distribution of Languages')\n",
    "plt.xticks(rotation=90)\n",
    "plt.show()"
   ]
  },
  {
   "cell_type": "code",
   "execution_count": 12,
   "id": "36d52be6",
   "metadata": {},
   "outputs": [
    {
     "data": {
      "image/png": "[encoded data removed]",
      "text/plain": [
       "<Figure size 720x288 with 1 Axes>"
      ]
     },
     "metadata": {
      "needs_background": "light"
     },
     "output_type": "display_data"
    }
   ],
   "source": [
    "# Analyze the length of the text samples to understand their distribution\n",
    "# This checks the length of each word in the language irrespective of the language name\n",
    "\n",
    "data['text_length'] = data['Text'].apply(len)\n",
    "plt.figure(figsize=(10, 4))\n",
    "sns.histplot(data['text_length'], bins=50, kde=True)\n",
    "plt.title('Distribution of Text Lengths')\n",
    "plt.show()"
   ]
  },
  {
   "cell_type": "code",
   "execution_count": 13,
   "id": "c9a042cf",
   "metadata": {},
   "outputs": [
    {
     "data": {
      "image/png": "[encoded data removed]",
      "text/plain": [
       "<Figure size 720x288 with 1 Axes>"
      ]
     },
     "metadata": {
      "needs_background": "light"
     },
     "output_type": "display_data"
    }
   ],
   "source": [
    "# Plot the distribution of text lengths for each language\n",
    "\n",
    "plt.figure(figsize=(10, 4))\n",
    "sns.histplot(data=data, x='text_length', hue='language', element='step', stat='density', common_norm=False, bins=50)\n",
    "plt.title('Distribution of Text Lengths by Language')\n",
    "plt.xlabel('Text Length')\n",
    "plt.ylabel('Density')\n",
    "plt.show()"
   ]
  },
  {
   "cell_type": "code",
   "execution_count": 14,
   "id": "214149ab",
   "metadata": {},
   "outputs": [],
   "source": [
    "# Count the Words in each Text\n",
    "\n",
    "data['word_count'] = data['Text'].apply(lambda x: len(x.split()))"
   ]
  },
  {
   "cell_type": "code",
   "execution_count": 15,
   "id": "0a63f4a5",
   "metadata": {},
   "outputs": [
    {
     "data": {
      "image/png": "[encoded data removed]",
      "text/plain": [
       "<Figure size 720x288 with 1 Axes>"
      ]
     },
     "metadata": {
      "needs_background": "light"
     },
     "output_type": "display_data"
    }
   ],
   "source": [
    "# Plot of the Distribution of Word Counts by Language\n",
    "\n",
    "plt.figure(figsize=(10, 4))\n",
    "sns.histplot(data=data, x='word_count', hue='language', element='step', stat='density', common_norm=False, bins=50)\n",
    "plt.title('Distribution of Word Counts by Language')\n",
    "plt.xlabel('Word Count')\n",
    "plt.ylabel('Density')\n",
    "plt.show()"
   ]
  },
  {
   "cell_type": "code",
   "execution_count": 16,
   "id": "ab1ac74b",
   "metadata": {},
   "outputs": [
    {
     "data": {
      "image/png": "[encoded data removed]",
      "text/plain": [
       "<Figure size 1008x432 with 1 Axes>"
      ]
     },
     "metadata": {
      "needs_background": "light"
     },
     "output_type": "display_data"
    }
   ],
   "source": [
    "# Calculate the number of words for each language\n",
    "word_counts = data.groupby('language')['word_count'].sum().reset_index()\n",
    "\n",
    "# Plot the distribution of word counts for each language\n",
    "plt.figure(figsize=(14, 6))\n",
    "sns.barplot(data=word_counts, x='language', y='word_count', order=data['language'].value_counts().index)\n",
    "plt.title('Distribution of Word Counts by Language')\n",
    "plt.xlabel('Language')\n",
    "plt.ylabel('Word Count')\n",
    "plt.xticks(rotation=90)\n",
    "\n",
    "# Display the count of words on top of each bar\n",
    "for index, row in word_counts.iterrows():\n",
    "    plt.text(index, row['word_count'], f\"{row['word_count']:,}\", color='black', ha=\"center\")\n",
    "\n",
    "plt.show()"
   ]
  },
  {
   "cell_type": "code",
   "execution_count": 17,
   "id": "614bee54",
   "metadata": {},
   "outputs": [
    {
     "name": "stdout",
     "output_type": "stream",
     "text": [
      "Top words in Arabic:\n",
      "في      2711\n",
      "من      1913\n",
      "على      975\n",
      "إلى      673\n",
      "أن       519\n",
      "التي     381\n",
      "عن       372\n",
      "عام      366\n",
      "أو       332\n",
      "ما       306\n",
      "Name: Arabic, dtype: Sparse[int64, 0]\n",
      "Top words in Chinese:\n",
      "年月日       165\n",
      "月日        146\n",
      "年月         81\n",
      "mai        32\n",
      "live       30\n",
      "賽德克        27\n",
      "kuraki     26\n",
      "tour       18\n",
      "best       16\n",
      "music      16\n",
      "Name: Chinese, dtype: Sparse[int64, 0]\n",
      "Top words in Dutch:\n",
      "van     2047\n",
      "het     1654\n",
      "een     1379\n",
      "en      1351\n",
      "op       624\n",
      "voor     575\n",
      "met      518\n",
      "door     500\n",
      "werd     489\n",
      "zijn     466\n",
      "Name: Dutch, dtype: Sparse[int64, 0]\n",
      "Top words in English:\n",
      "new       204\n",
      "school    178\n",
      "state     114\n",
      "time      111\n",
      "page      110\n",
      "film      101\n",
      "team      101\n",
      "years      89\n",
      "high       88\n",
      "world      88\n",
      "Name: English, dtype: Sparse[int64, 0]\n",
      "Top words in Estonian:\n",
      "ja        1320\n",
      "ta         371\n",
      "oli        324\n",
      "ning       269\n",
      "aastal     262\n",
      "ka         258\n",
      "mis        225\n",
      "kui        218\n",
      "või        182\n",
      "et         166\n",
      "Name: Estonian, dtype: Sparse[int64, 0]\n",
      "Top words in French:\n",
      "la      2216\n",
      "le      1912\n",
      "et      1557\n",
      "en      1459\n",
      "les     1115\n",
      "des      985\n",
      "du       942\n",
      "est      761\n",
      "dans     574\n",
      "une      556\n",
      "Name: French, dtype: Sparse[int64, 0]\n",
      "Top words in Hindi:\n",
      "और    1649\n",
      "पर    1273\n",
      "एक    1027\n",
      "रत     758\n",
      "कर     692\n",
      "इस     655\n",
      "यह     615\n",
      "वर     544\n",
      "अन     540\n",
      "रक     524\n",
      "Name: Hindi, dtype: Sparse[int64, 0]\n",
      "Top words in Indonesian:\n",
      "dan       1631\n",
      "yang      1615\n",
      "di        1144\n",
      "pada       828\n",
      "dari       734\n",
      "dengan     651\n",
      "ini        632\n",
      "untuk      479\n",
      "dalam      468\n",
      "adalah     440\n",
      "Name: Indonesian, dtype: Sparse[int64, 0]\n",
      "Top words in Japanese:\n",
      "また       136\n",
      "昭和年       93\n",
      "平成年       69\n",
      "しかし       49\n",
      "なお        45\n",
      "年月日       35\n",
      "その後       32\n",
      "月日        24\n",
      "en        16\n",
      "phase     13\n",
      "Name: Japanese, dtype: Sparse[int64, 0]\n",
      "Top words in Korean:\n",
      "있다     380\n",
      "그는     289\n",
      "그의     248\n",
      "있는     160\n",
      "이후     155\n",
      "그리고    139\n",
      "또한     134\n",
      "함께     132\n",
      "한다     130\n",
      "된다     123\n",
      "Name: Korean, dtype: Sparse[int64, 0]\n",
      "Top words in Latin:\n",
      "et      1251\n",
      "est      904\n",
      "anno     432\n",
      "ad       334\n",
      "die      329\n",
      "fuit     200\n",
      "cum      200\n",
      "sunt     192\n",
      "ab       159\n",
      "quae     153\n",
      "Name: Latin, dtype: Sparse[int64, 0]\n",
      "Top words in Persian:\n",
      "در     3550\n",
      "به     2501\n",
      "از     2220\n",
      "که     1547\n",
      "است    1536\n",
      "می     1524\n",
      "این    1248\n",
      "های    1024\n",
      "را      987\n",
      "با      828\n",
      "Name: Persian, dtype: Sparse[int64, 0]\n",
      "Top words in Portugese:\n",
      "em      1258\n",
      "da      1024\n",
      "que      999\n",
      "um       643\n",
      "uma      605\n",
      "os       573\n",
      "com      568\n",
      "se       528\n",
      "na       518\n",
      "para     505\n",
      "Name: Portugese, dtype: Sparse[int64, 0]\n",
      "Top words in Pushto:\n",
      "په     4798\n",
      "او     3085\n",
      "کې     1807\n",
      "چې     1585\n",
      "له     1104\n",
      "ته      899\n",
      "څخه     634\n",
      "دي      623\n",
      "سره     614\n",
      "هم      607\n",
      "Name: Pushto, dtype: Sparse[int64, 0]\n",
      "Top words in Romanian:\n",
      "în      1804\n",
      "și      1408\n",
      "din      959\n",
      "la       884\n",
      "cu       655\n",
      "este     544\n",
      "care     529\n",
      "pe       507\n",
      "fost     495\n",
      "mai      411\n",
      "Name: Romanian, dtype: Sparse[int64, 0]\n",
      "Top words in Russian:\n",
      "на      842\n",
      "по      420\n",
      "года    402\n",
      "не      294\n",
      "из      245\n",
      "что     229\n",
      "для     226\n",
      "его     215\n",
      "как     215\n",
      "году    201\n",
      "Name: Russian, dtype: Sparse[int64, 0]\n",
      "Top words in Spanish:\n",
      "la     2678\n",
      "en     2315\n",
      "el     2154\n",
      "que    1105\n",
      "los    1037\n",
      "del     973\n",
      "se      764\n",
      "por     735\n",
      "una     666\n",
      "su      623\n",
      "Name: Spanish, dtype: Sparse[int64, 0]\n",
      "Top words in Swedish:\n",
      "är         2486\n",
      "och        1486\n",
      "den        1468\n",
      "med         902\n",
      "av          897\n",
      "en          732\n",
      "som         654\n",
      "trakten     431\n",
      "om          392\n",
      "på          390\n",
      "Name: Swedish, dtype: Sparse[int64, 0]\n",
      "Top words in Tamil:\n",
      "கள    3637\n",
      "பட    1813\n",
      "என     831\n",
      "றத     628\n",
      "இந     593\n",
      "கப     588\n",
      "இர     581\n",
      "வர     521\n",
      "தல     520\n",
      "உள     493\n",
      "Name: Tamil, dtype: Sparse[int64, 0]\n",
      "Top words in Thai:\n",
      "เป     817\n",
      "นท     564\n",
      "ได     459\n",
      "พศ     408\n",
      "แต     273\n",
      "อย     237\n",
      "เร     227\n",
      "เม     210\n",
      "งเป    193\n",
      "มพ     192\n",
      "Name: Thai, dtype: Sparse[int64, 0]\n",
      "Top words in Turkish:\n",
      "ve            1683\n",
      "bir            941\n",
      "bu             440\n",
      "olarak         379\n",
      "ile            354\n",
      "olan           323\n",
      "da             312\n",
      "için           300\n",
      "tarafından     202\n",
      "yılında        201\n",
      "Name: Turkish, dtype: Sparse[int64, 0]\n",
      "Top words in Urdu:\n",
      "کے     2353\n",
      "میں    2168\n",
      "ہے     1926\n",
      "کی     1857\n",
      "اور    1766\n",
      "سے     1399\n",
      "کا     1200\n",
      "اس     1003\n",
      "کو      763\n",
      "ایک     699\n",
      "Name: Urdu, dtype: Sparse[int64, 0]\n"
     ]
    }
   ],
   "source": [
    "# Top Words by Language\n",
    "# Identify the most frequent words in each language\n",
    "\n",
    "# Limit vocabulary size and use sparse matrices\n",
    "vectorizer = CountVectorizer(stop_words='english', max_features=5000)\n",
    "X = vectorizer.fit_transform(data['Text'])\n",
    "\n",
    "# No need to convert to dense array, keep it sparse\n",
    "#word_counts = pd.DataFrame.sparse.from_spmatrix(X, columns=vectorizer.get_feature_names_out())\n",
    "word_counts = pd.DataFrame.sparse.from_spmatrix(X, columns=vectorizer.get_feature_names())\n",
    "\n",
    "\n",
    "\n",
    "# Add language column\n",
    "word_counts['language'] = data['language']\n",
    "\n",
    "# Group by language and sum counts\n",
    "top_words = word_counts.groupby('language').sum().T\n",
    "\n",
    "# Print top words for each language\n",
    "for lang in top_words.columns:\n",
    "    print(f'Top words in {lang}:')\n",
    "    print(top_words[lang].sort_values(ascending=False).head(10))"
   ]
  },
  {
   "cell_type": "code",
   "execution_count": 18,
   "id": "1b09e427",
   "metadata": {},
   "outputs": [
    {
     "name": "stdout",
     "output_type": "stream",
     "text": [
      "Languages similar to Portugese:\n",
      "  - Spanish (similar documents: 7, representative words: epítetos, encontrar, uno, puede, más)\n",
      "Languages similar to Dutch:\n",
      "  - Estonian (similar documents: 2, representative words: marcus, ekr-, pkr, apicius, gavius)\n",
      "  - French (similar documents: 1, representative words: d, clubs, certains, pro, de)\n",
      "Languages similar to Romanian:\n",
      "  - Spanish (similar documents: 2, representative words: o, ejército, ac, victoria, del, n, la, f, zuloaga)\n",
      "Languages similar to Spanish:\n",
      "  - Romanian (similar documents: 2, representative words: tshimbulu, în, marie-thérèse, n, suzanne, oraș, jacqueline, auriol-douet, un, este)\n",
      "  - Portugese (similar documents: 7, representative words: o, tradicionalmente, as, filme, a, no, garnizé, enfrentou, os, campo, daley, guerra, já, alexandre, protocolo, original, como, do, descobriu, foram, dom, consequência, nick, poty, não, latinos, em, diaz, mulheres, de, roteiro)\n",
      "Languages similar to French:\n",
      "  - Dutch (similar documents: 1, representative words: is, d, national, championnat, gabon)\n",
      "Languages similar to English:\n",
      "  - Hindi (similar documents: 1, representative words: the, by, produced, each, voltage)\n",
      "Languages similar to Estonian:\n",
      "  - Dutch (similar documents: 2, representative words: is, het, voetbalelftal, in, san, marinees, debuteerde, hij, de)\n",
      "Languages similar to Hindi:\n",
      "  - English (similar documents: 1, representative words: power, a, bussy-saint-georges, strong, has)\n"
     ]
    }
   ],
   "source": [
    "# Pairwise Language Similarity\n",
    "# Analyze the similarity between different languages based on text data\n",
    "\n",
    "\n",
    "# # Create TF-IDF matrix\n",
    "# tfidf_vectorizer = TfidfVectorizer(stop_words='english')\n",
    "# tfidf_matrix = tfidf_vectorizer.fit_transform(data['Text'])\n",
    "\n",
    "# # Reduce dimensionality using TruncatedSVD\n",
    "# svd = TruncatedSVD(n_components=100)\n",
    "# tfidf_matrix_reduced = svd.fit_transform(tfidf_matrix)\n",
    "\n",
    "# # Calculate cosine similarity\n",
    "# similarities = cosine_similarity(tfidf_matrix_reduced, tfidf_matrix_reduced)\n",
    "\n",
    "# # Create similarity DataFrame\n",
    "# similarity_df = pd.DataFrame(similarities, index=data['language'], columns=data['language'])\n",
    "\n",
    "# # Plot pairwise language similarity\n",
    "# plt.figure(figsize=(12, 6))\n",
    "# sns.heatmap(similarity_df, cmap='coolwarm')\n",
    "# plt.title('Pairwise Language Similarity (TruncatedSVD)')\n",
    "# plt.show()\n",
    "# End\n",
    "\n",
    "\n",
    "\n",
    "# # Create TF-IDF vectorizer with stop words removed\n",
    "# tfidf_vectorizer = TfidfVectorizer(stop_words='english')\n",
    "# tfidf_matrix = tfidf_vectorizer.fit_transform(data['Text'])\n",
    "\n",
    "# # Initialize MinHashLSH\n",
    "# num_perm = 128  # Number of permutations\n",
    "# lsh = MinHashLSH(threshold=0.5, num_perm=num_perm)\n",
    "\n",
    "# # Create MinHash signatures and index\n",
    "# for i, text in enumerate(data['Text']):\n",
    "#     min_hash = MinHash(num_perm=num_perm)\n",
    "#     for word in text.split():\n",
    "#         min_hash.update(word.encode('utf-8'))\n",
    "#     lsh.insert(i, min_hash)\n",
    "\n",
    "# # Compute similar documents\n",
    "# similar_docs = {}\n",
    "# for i, text in enumerate(data['Text']):\n",
    "#     min_hash_query = MinHash(num_perm=num_perm)\n",
    "#     for word in text.split():\n",
    "#         min_hash_query.update(word.encode('utf-8'))\n",
    "#     results = lsh.query(min_hash_query)\n",
    "#     similar_docs[i] = results\n",
    "\n",
    "# # Print similar documents\n",
    "# for i, results in similar_docs.items():\n",
    "#     print(f\"Similar documents to document {i}: {results}\")\n",
    "# End\n",
    "\n",
    "\n",
    "\n",
    "# # Create TF-IDF vectorizer with stop words removed\n",
    "# tfidf_vectorizer = TfidfVectorizer(stop_words='english')\n",
    "# tfidf_matrix = tfidf_vectorizer.fit_transform(data['Text'])\n",
    "\n",
    "# # Initialize MinHashLSH\n",
    "# num_perm = 128  # Number of permutations\n",
    "# lsh = MinHashLSH(threshold=0.5, num_perm=num_perm)\n",
    "\n",
    "# # Create MinHash signatures and index\n",
    "# for i, text in enumerate(data['Text']):\n",
    "#     min_hash = MinHash(num_perm=num_perm)\n",
    "#     for word in text.split():\n",
    "#         min_hash.update(word.encode('utf-8'))\n",
    "#     lsh.insert(i, min_hash)\n",
    "\n",
    "# # Compute similar documents\n",
    "# similar_docs = {}\n",
    "# for i, text in enumerate(data['Text']):\n",
    "#     min_hash_query = MinHash(num_perm=num_perm)\n",
    "#     for word in text.split():\n",
    "#         min_hash_query.update(word.encode('utf-8'))\n",
    "#     results = lsh.query(min_hash_query)\n",
    "#     similar_docs[i] = results\n",
    "\n",
    "# # Print similar documents with language names\n",
    "# for i, results in similar_docs.items():\n",
    "#     doc_language = data.loc[i, 'language']\n",
    "#     print(f\"Similar documents to document {i} ({doc_language}):\")\n",
    "#     for similar_doc_index in results:\n",
    "#         similar_doc_language = data.loc[similar_doc_index, 'language']\n",
    "#         print(f\"  - Document {similar_doc_index}: {similar_doc_language}\")\n",
    "\n",
    "# End\n",
    "\n",
    "\n",
    "\n",
    "# # Create TF-IDF vectorizer with stop words removed\n",
    "# tfidf_vectorizer = TfidfVectorizer(stop_words='english')\n",
    "# tfidf_matrix = tfidf_vectorizer.fit_transform(data['Text'])\n",
    "\n",
    "# # Initialize MinHashLSH\n",
    "# num_perm = 128  # Number of permutations\n",
    "# lsh = MinHashLSH(threshold=0.5, num_perm=num_perm)\n",
    "\n",
    "# # Create MinHash signatures and index\n",
    "# for i, text in enumerate(data['Text']):\n",
    "#     min_hash = MinHash(num_perm=num_perm)\n",
    "#     for word in text.split():\n",
    "#         min_hash.update(word.encode('utf-8'))\n",
    "#     lsh.insert(i, min_hash)\n",
    "\n",
    "# # Compute similar documents\n",
    "# similar_docs = {}\n",
    "# for i, text in enumerate(data['Text']):\n",
    "#     min_hash_query = MinHash(num_perm=num_perm)\n",
    "#     for word in text.split():\n",
    "#         min_hash_query.update(word.encode('utf-8'))\n",
    "#     results = lsh.query(min_hash_query)\n",
    "#     similar_docs[i] = results\n",
    "\n",
    "# # Aggregate similar languages\n",
    "# similar_languages = {}\n",
    "# for i, results in similar_docs.items():\n",
    "#     doc_language = data.loc[i, 'language']\n",
    "#     if doc_language not in similar_languages:\n",
    "#         similar_languages[doc_language] = set()\n",
    "#     for similar_doc_index in results:\n",
    "#         similar_doc_language = data.loc[similar_doc_index, 'language']\n",
    "#         if similar_doc_language != doc_language:\n",
    "#             similar_languages[doc_language].add(similar_doc_language)\n",
    "\n",
    "# # Print similar languages\n",
    "# for language, similar_langs in similar_languages.items():\n",
    "#     print(f\"Languages similar to {language}:\")\n",
    "#     for similar_lang in similar_langs:\n",
    "#         print(f\"  - {similar_lang}\")\n",
    "# End\n",
    "\n",
    "\n",
    "\n",
    "# Create TF-IDF vectorizer with stop words removed\n",
    "tfidf_vectorizer = TfidfVectorizer(stop_words='english')\n",
    "tfidf_matrix = tfidf_vectorizer.fit_transform(data['Text'])\n",
    "\n",
    "# Initialize MinHashLSH\n",
    "num_perm = 128  # Number of permutations\n",
    "lsh = MinHashLSH(threshold=0.5, num_perm=num_perm)\n",
    "\n",
    "# Create MinHash signatures and index\n",
    "for i, text in enumerate(data['Text']):\n",
    "    min_hash = MinHash(num_perm=num_perm)\n",
    "    for word in text.split():\n",
    "        min_hash.update(word.encode('utf-8'))\n",
    "    lsh.insert(i, min_hash)\n",
    "\n",
    "# Compute similar documents\n",
    "similar_docs = defaultdict(list)\n",
    "for i, text in enumerate(data['Text']):\n",
    "    min_hash_query = MinHash(num_perm=num_perm)\n",
    "    for word in text.split():\n",
    "        min_hash_query.update(word.encode('utf-8'))\n",
    "    results = lsh.query(min_hash_query)\n",
    "    similar_docs[i] = results\n",
    "\n",
    "# Aggregate similar languages\n",
    "similar_languages = defaultdict(lambda: defaultdict(int))\n",
    "representative_words = defaultdict(lambda: defaultdict(set))\n",
    "\n",
    "for i, results in similar_docs.items():\n",
    "    doc_language = data.loc[i, 'language']\n",
    "    for similar_doc_index in results:\n",
    "        similar_doc_language = data.loc[similar_doc_index, 'language']\n",
    "        if similar_doc_language != doc_language:\n",
    "            similar_languages[doc_language][similar_doc_language] += 1\n",
    "            representative_words[doc_language][similar_doc_language].update(\n",
    "                data.loc[similar_doc_index, 'Text'].split()[:5]  # Get first 5 words as representatives\n",
    "            )\n",
    "\n",
    "# Print similar languages with details\n",
    "for language, sim_langs in similar_languages.items():\n",
    "    print(f\"Languages similar to {language}:\")\n",
    "    for similar_lang, count in sim_langs.items():\n",
    "        words = ', '.join(representative_words[language][similar_lang])\n",
    "        print(f\"  - {similar_lang} (similar documents: {count}, representative words: {words})\")"
   ]
  },
  {
   "cell_type": "code",
   "execution_count": 19,
   "id": "b532424a",
   "metadata": {},
   "outputs": [],
   "source": [
    "# Splitting the data into training, validation and test sets\n",
    "\n",
    "x = np.array(data[\"Text\"])\n",
    "y = np.array(data[\"language\"])\n",
    "\n",
    "# First split to create training and temporary sets (temp contains validation + test)\n",
    "X_train, X_temp, y_train, y_temp = train_test_split(x, y, test_size=0.33, random_state=42)\n",
    "\n",
    "# Second split to create validation and test sets from the temporary set\n",
    "X_val, X_test, y_val, y_test = train_test_split(X_temp, y_temp, test_size=0.5, random_state=42)\n",
    "\n",
    "# Vectorize the text data\n",
    "cv = CountVectorizer()\n",
    "X_train_cv = cv.fit_transform(X_train)\n",
    "X_val_cv = cv.transform(X_val)\n",
    "X_test_cv = cv.transform(X_test)"
   ]
  },
  {
   "cell_type": "code",
   "execution_count": null,
   "id": "d28dd059",
   "metadata": {},
   "outputs": [],
   "source": []
  },
  {
   "cell_type": "code",
   "execution_count": 20,
   "id": "e4034888",
   "metadata": {},
   "outputs": [
    {
     "data": {
      "text/plain": [
       "MultinomialNB()"
      ]
     },
     "execution_count": 20,
     "metadata": {},
     "output_type": "execute_result"
    }
   ],
   "source": [
    "# Training the model\n",
    "\n",
    "model = MultinomialNB()\n",
    "model.fit(X_train_cv, y_train)"
   ]
  },
  {
   "cell_type": "code",
   "execution_count": null,
   "id": "5e7a311c",
   "metadata": {},
   "outputs": [],
   "source": []
  },
  {
   "cell_type": "code",
   "execution_count": 21,
   "id": "6000a570",
   "metadata": {},
   "outputs": [
    {
     "name": "stdout",
     "output_type": "stream",
     "text": [
      "Validation Accuracy: 96.06%\n"
     ]
    }
   ],
   "source": [
    "# Validate the model\n",
    "y_val_pred = model.predict(X_val_cv)\n",
    "val_accuracy = accuracy_score(y_val, y_val_pred)\n",
    "print(f\"Validation Accuracy: {val_accuracy * 100:.2f}%\")"
   ]
  },
  {
   "cell_type": "code",
   "execution_count": null,
   "id": "a7211c9a",
   "metadata": {},
   "outputs": [],
   "source": []
  },
  {
   "cell_type": "code",
   "execution_count": 22,
   "id": "310a9be5",
   "metadata": {},
   "outputs": [
    {
     "name": "stdout",
     "output_type": "stream",
     "text": [
      "Test Accuracy: 95.43%\n"
     ]
    }
   ],
   "source": [
    "# Testing the model's performance\n",
    "\n",
    "# Evaluate the model on the test set\n",
    "y_test_pred = model.predict(X_test_cv)\n",
    "test_accuracy = accuracy_score(y_test, y_test_pred)\n",
    "print(f\"Test Accuracy: {test_accuracy * 100:.2f}%\")"
   ]
  },
  {
   "cell_type": "code",
   "execution_count": 23,
   "id": "31b20f81",
   "metadata": {},
   "outputs": [
    {
     "name": "stdout",
     "output_type": "stream",
     "text": [
      "Enter a text: okada\n",
      "Predicted Language: Chinese\n"
     ]
    }
   ],
   "source": [
    "# Using the model\n",
    "\n",
    "# User input for prediction\n",
    "user_input = input(\"Enter a text: \").strip()\n",
    "if user_input:\n",
    "    data = cv.transform([user_input]).toarray()\n",
    "    output = model.predict(data)\n",
    "    print(f\"Predicted Language: {output[0]}\")\n",
    "else:\n",
    "    print(\"No input provided. Please enter some text\")"
   ]
  },
  {
   "cell_type": "code",
   "execution_count": 26,
   "id": "aec8a920",
   "metadata": {},
   "outputs": [],
   "source": [
    "# Define the models\n",
    "\n",
    "models = {\n",
    "    \"Multinomial Naive Bayes\": MultinomialNB(),\n",
    "    \"Logistic Regression\": LogisticRegression(max_iter=1000),\n",
    "    \"Support Vector Machine\": LinearSVC(),\n",
    "    \"Random Forest\": RandomForestClassifier(n_estimators=100, random_state=42),\n",
    "    \"Neural Network\": MLPClassifier(hidden_layer_sizes=(100,), max_iter=1000, random_state=42)\n",
    "}"
   ]
  },
  {
   "cell_type": "code",
   "execution_count": null,
   "id": "6e9118c5",
   "metadata": {},
   "outputs": [],
   "source": []
  },
  {
   "cell_type": "code",
   "execution_count": 31,
   "id": "629a7702",
   "metadata": {},
   "outputs": [
    {
     "name": "stdout",
     "output_type": "stream",
     "text": [
      "Training Multinomial Naive Bayes...\n",
      "Multinomial Naive Bayes Validation Accuracy: 96.06%\n",
      "Multinomial Naive Bayes Test Accuracy: 95.43% \n",
      "\n",
      "Training Logistic Regression...\n",
      "Logistic Regression Validation Accuracy: 94.33%\n",
      "Logistic Regression Test Accuracy: 94.16% \n",
      "\n",
      "Training Support Vector Machine...\n",
      "Support Vector Machine Validation Accuracy: 95.51%\n",
      "Support Vector Machine Test Accuracy: 95.54% \n",
      "\n",
      "Training Random Forest...\n",
      "Random Forest Validation Accuracy: 91.90%\n",
      "Random Forest Test Accuracy: 92.07% \n",
      "\n",
      "Training Neural Network...\n",
      "Neural Network Validation Accuracy: 96.61%\n",
      "Neural Network Test Accuracy: 96.80% \n",
      "\n",
      "\n",
      "Model Comparison:\n",
      "Multinomial Naive Bayes: Test Accuracy = 95.43% \n",
      "\n",
      "Logistic Regression: Test Accuracy = 94.16% \n",
      "\n",
      "Support Vector Machine: Test Accuracy = 95.54% \n",
      "\n",
      "Random Forest: Test Accuracy = 92.07% \n",
      "\n",
      "Neural Network: Test Accuracy = 96.80% \n",
      "\n",
      "Using Best Model: Neural Network\n",
      "Enter a text: oga adimma\n",
      "Predicted Language by Neural Network: Japanese\n"
     ]
    }
   ],
   "source": [
    "# Train, validate, and test with each model\n",
    "results = {}\n",
    "for name, model in models.items():\n",
    "    print(f\"Training {name}...\")\n",
    "    try:\n",
    "        # Train the model\n",
    "        model.fit(X_train_cv, y_train)\n",
    "\n",
    "        # Validate the model\n",
    "        y_val_pred = model.predict(X_val_cv)\n",
    "        val_accuracy = accuracy_score(y_val, y_val_pred)\n",
    "        print(f\"{name} Validation Accuracy: {val_accuracy * 100:.2f}%\")\n",
    "\n",
    "        # Evaluate the model on the test set\n",
    "        y_test_pred = model.predict(X_test_cv)\n",
    "        test_accuracy = accuracy_score(y_test, y_test_pred)\n",
    "        print(f\"{name} Test Accuracy: {test_accuracy * 100:.2f}% \\n\")\n",
    "\n",
    "        results[name] = test_accuracy\n",
    "    except Exception as e:\n",
    "        print(f\"Error training {name}: {e}\")\n",
    "\n",
    "# Display the results\n",
    "print(\"\\nModel Comparison:\")\n",
    "for name, accuracy in results.items():\n",
    "    print(f\"{name}: Test Accuracy = {accuracy * 100:.2f}% \\n\")\n",
    "\n",
    "# Predict language for user input using the best model\n",
    "try:\n",
    "    best_model_name = max(results, key=results.get)\n",
    "    best_model = models[best_model_name]\n",
    "    print(f\"Using Best Model: {best_model_name}\")\n",
    "\n",
    "    user_input = input(\"Enter a text: \").strip()\n",
    "    if user_input:\n",
    "        # Vectorize user input\n",
    "        data = cv.transform([user_input]).toarray()\n",
    "\n",
    "        # Predict the language\n",
    "        output = best_model.predict(data)\n",
    "        print(f\"Predicted Language by {best_model_name}: {output[0]}\")\n",
    "    else:\n",
    "        print(\"No input provided. Please enter some texts.\")\n",
    "except NotFittedError:\n",
    "    print(f\"Error: The model '{best_model_name}' is not fitted. Ensure it is properly trained.\")\n",
    "except Exception as e:\n",
    "    print(f\"Unexpected error: {e}\")\n"
   ]
  },
  {
   "cell_type": "code",
   "execution_count": null,
   "id": "cd1c54b6",
   "metadata": {},
   "outputs": [],
   "source": []
  },
  {
   "cell_type": "code",
   "execution_count": null,
   "id": "7fbf2ec1",
   "metadata": {},
   "outputs": [],
   "source": []
  },
  {
   "cell_type": "code",
   "execution_count": null,
   "id": "665ef5d6",
   "metadata": {},
   "outputs": [],
   "source": []
  }
 ],
 "metadata": {
  "kernelspec": {
   "display_name": "Python 3",
   "language": "python",
   "name": "python3"
  },
  "language_info": {
   "codemirror_mode": {
    "name": "ipython",
    "version": 3
   },
   "file_extension": ".py",
   "mimetype": "text/x-python",
   "name": "python",
   "nbconvert_exporter": "python",
   "pygments_lexer": "ipython3",
   "version": "3.8.8"
  }
 },
 "nbformat": 4,
 "nbformat_minor": 5
}
